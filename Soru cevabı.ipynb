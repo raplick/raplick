{
 "cells": [
  {
   "cell_type": "code",
   "execution_count": 25,
   "id": "3f78e6db",
   "metadata": {},
   "outputs": [],
   "source": [
    "import pandas as pd\n",
    "import statistics as st "
   ]
  },
  {
   "cell_type": "code",
   "execution_count": 16,
   "id": "aca45e73",
   "metadata": {},
   "outputs": [
    {
     "data": {
      "text/plain": [
       "Index(['country', 'date', 'daily_vaccinations', 'vaccines'], dtype='object')"
      ]
     },
     "execution_count": 16,
     "metadata": {},
     "output_type": "execute_result"
    }
   ],
   "source": [
    "data=pd.read_csv(\"country_vaccination_stats.csv\")\n",
    "data.columns  #I wanted to read columns so  ı can understand the order of them"
   ]
  },
  {
   "cell_type": "code",
   "execution_count": 24,
   "id": "ef82a0a2",
   "metadata": {},
   "outputs": [
    {
     "data": {
      "text/html": [
       "<div>\n",
       "<style scoped>\n",
       "    .dataframe tbody tr th:only-of-type {\n",
       "        vertical-align: middle;\n",
       "    }\n",
       "\n",
       "    .dataframe tbody tr th {\n",
       "        vertical-align: top;\n",
       "    }\n",
       "\n",
       "    .dataframe thead th {\n",
       "        text-align: right;\n",
       "    }\n",
       "</style>\n",
       "<table border=\"1\" class=\"dataframe\">\n",
       "  <thead>\n",
       "    <tr style=\"text-align: right;\">\n",
       "      <th></th>\n",
       "      <th>country</th>\n",
       "      <th>date</th>\n",
       "      <th>daily_vaccinations</th>\n",
       "      <th>vaccines</th>\n",
       "    </tr>\n",
       "  </thead>\n",
       "  <tbody>\n",
       "    <tr>\n",
       "      <th>0</th>\n",
       "      <td>Argentina</td>\n",
       "      <td>12/29/2020</td>\n",
       "      <td>0.0</td>\n",
       "      <td>Sputnik V</td>\n",
       "    </tr>\n",
       "    <tr>\n",
       "      <th>1</th>\n",
       "      <td>Argentina</td>\n",
       "      <td>12/30/2020</td>\n",
       "      <td>15656.0</td>\n",
       "      <td>Sputnik V</td>\n",
       "    </tr>\n",
       "    <tr>\n",
       "      <th>2</th>\n",
       "      <td>Argentina</td>\n",
       "      <td>12/31/2020</td>\n",
       "      <td>15656.0</td>\n",
       "      <td>Sputnik V</td>\n",
       "    </tr>\n",
       "    <tr>\n",
       "      <th>3</th>\n",
       "      <td>Argentina</td>\n",
       "      <td>1/1/2021</td>\n",
       "      <td>11070.0</td>\n",
       "      <td>Sputnik V</td>\n",
       "    </tr>\n",
       "    <tr>\n",
       "      <th>4</th>\n",
       "      <td>Argentina</td>\n",
       "      <td>1/2/2021</td>\n",
       "      <td>8776.0</td>\n",
       "      <td>Sputnik V</td>\n",
       "    </tr>\n",
       "  </tbody>\n",
       "</table>\n",
       "</div>"
      ],
      "text/plain": [
       "     country        date  daily_vaccinations   vaccines\n",
       "0  Argentina  12/29/2020                 0.0  Sputnik V\n",
       "1  Argentina  12/30/2020             15656.0  Sputnik V\n",
       "2  Argentina  12/31/2020             15656.0  Sputnik V\n",
       "3  Argentina    1/1/2021             11070.0  Sputnik V\n",
       "4  Argentina    1/2/2021              8776.0  Sputnik V"
      ]
     },
     "execution_count": 24,
     "metadata": {},
     "output_type": "execute_result"
    }
   ],
   "source": [
    "data['daily_vaccinations'] = data['daily_vaccinations'].fillna(0) #First task is accomplished using fillna function\n",
    "data.head() #First task is checked"
   ]
  },
  {
   "cell_type": "code",
   "execution_count": 43,
   "id": "51748de5",
   "metadata": {},
   "outputs": [],
   "source": [
    "a=df.groupby('country')['daily_vaccinations'].median() #Second task is started.I used groupby function to group every unique items.\n",
    "                                                        #After that ı get median of them.\n",
    "sr = pd.Series(a)"
   ]
  },
  {
   "cell_type": "code",
   "execution_count": 44,
   "id": "3c17b4b0",
   "metadata": {},
   "outputs": [
    {
     "name": "stdout",
     "output_type": "stream",
     "text": [
      "country\n",
      "Argentina                11645.0\n",
      "Austria                   7850.0\n",
      "Bahrain                   3662.0\n",
      "Belgium                   3606.0\n",
      "Brazil                   17220.0\n",
      "Bulgaria                  1010.0\n",
      "Canada                   11044.0\n",
      "Chile                     1291.0\n",
      "China                   276786.0\n",
      "Costa Rica                 675.5\n",
      "Croatia                   2485.0\n",
      "Cyprus                     708.0\n",
      "Czechia                   5378.0\n",
      "Denmark                   7095.5\n",
      "Ecuador                     54.0\n",
      "England                 107310.5\n",
      "Estonia                   1043.0\n",
      "Finland                   2035.5\n",
      "France                   41496.0\n",
      "Germany                  51184.0\n",
      "Gibraltar                  713.0\n",
      "Greece                    5290.0\n",
      "Hungary                   5464.5\n",
      "Iceland                     63.0\n",
      "India                   173922.0\n",
      "Indonesia                13200.0\n",
      "Ireland                   6528.0\n",
      "Isle of Man                138.0\n",
      "Israel                   92587.0\n",
      "Italy                    44475.5\n",
      "Kuwait                       0.0\n",
      "Latvia                     592.0\n",
      "Lithuania                 1933.5\n",
      "Luxembourg                  88.0\n",
      "Malta                      407.5\n",
      "Mexico                    5488.0\n",
      "Netherlands               6762.0\n",
      "Northern Ireland          2135.0\n",
      "Norway                    2958.0\n",
      "Oman                      1192.0\n",
      "Panama                    1324.0\n",
      "Poland                   22702.5\n",
      "Portugal                  5944.0\n",
      "Romania                  13030.0\n",
      "Russia                   23563.0\n",
      "Saudi Arabia             16807.5\n",
      "Scotland                  5821.0\n",
      "Serbia                    2920.0\n",
      "Seychelles                1000.0\n",
      "Singapore                 4907.0\n",
      "Slovakia                  5357.0\n",
      "Slovenia                  2374.0\n",
      "Spain                    55238.0\n",
      "Sweden                    5382.5\n",
      "Switzerland               3000.0\n",
      "Turkey                  150356.0\n",
      "United Arab Emirates     86430.0\n",
      "United Kingdom          120409.0\n",
      "United States           378253.0\n",
      "Wales                     2198.0\n",
      "Name: daily_vaccinations, dtype: float64\n"
     ]
    }
   ],
   "source": [
    "print(sr)"
   ]
  },
  {
   "cell_type": "code",
   "execution_count": 48,
   "id": "7b5c6600",
   "metadata": {},
   "outputs": [
    {
     "name": "stdout",
     "output_type": "stream",
     "text": [
      "country\n",
      "United States    378253.0\n",
      "China            276786.0\n",
      "India            173922.0\n",
      "Name: daily_vaccinations, dtype: float64\n"
     ]
    }
   ],
   "source": [
    "b=sr.sort_values(ascending = False)\n",
    "print(b[:3])"
   ]
  },
  {
   "cell_type": "code",
   "execution_count": null,
   "id": "1d29d5d5",
   "metadata": {},
   "outputs": [],
   "source": []
  }
 ],
 "metadata": {
  "kernelspec": {
   "display_name": "Python 3 (ipykernel)",
   "language": "python",
   "name": "python3"
  },
  "language_info": {
   "codemirror_mode": {
    "name": "ipython",
    "version": 3
   },
   "file_extension": ".py",
   "mimetype": "text/x-python",
   "name": "python",
   "nbconvert_exporter": "python",
   "pygments_lexer": "ipython3",
   "version": "3.9.7"
  }
 },
 "nbformat": 4,
 "nbformat_minor": 5
}
