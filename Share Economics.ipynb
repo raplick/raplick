{
 "cells": [
  {
   "cell_type": "code",
   "execution_count": 1,
   "id": "5d7b7b97",
   "metadata": {},
   "outputs": [],
   "source": [
    "import yfinance as yf\n",
    "import pandas as pd"
   ]
  },
  {
   "cell_type": "code",
   "execution_count": 3,
   "id": "97def348",
   "metadata": {},
   "outputs": [],
   "source": [
    "twitter = yf.Ticker(\"TWTR\")"
   ]
  },
  {
   "cell_type": "code",
   "execution_count": 4,
   "id": "a7116a5e",
   "metadata": {},
   "outputs": [
    {
     "data": {
      "text/plain": [
       "{'zip': '94103',\n",
       " 'sector': 'Communication Services',\n",
       " 'fullTimeEmployees': 7500,\n",
       " 'longBusinessSummary': 'Twitter, Inc. operates as a platform for public self-expression and conversation in real-time. The company offers Twitter, a platform that allows users to consume, create, distribute, and discover content. It also provides promoted products and services, such as promoted ads and Twitter amplify, follower ads, and Twitter takeover; Tips to directly send small one-time payments on Twitter using various payment methods, including bitcoin; Super Follows, a paid monthly subscription, which includes bonus content, exclusive previews, and perks as a way to support and connect with creators on Twitter; and Ticketed Spaces to support creators on Twitter for their time and effort in hosting, speaking, and moderating the public conversation on Twitter Spaces. In addition, the company offers Twitter Audience platform, an advertising offering that enables advertisers to extend advertising campaigns; Twitter Developer Platform, a platform that enables developers to build tools for people and businesses using its public application programming interface; and paid access to Twitter data for partners with commercial use cases. Twitter, Inc. was founded in 2006 and is based in San Francisco, California.',\n",
       " 'city': 'San Francisco',\n",
       " 'phone': '415 222 9670',\n",
       " 'state': 'CA',\n",
       " 'country': 'United States',\n",
       " 'companyOfficers': [],\n",
       " 'website': 'https://www.twitter.com',\n",
       " 'maxAge': 1,\n",
       " 'address1': '1355 Market Street',\n",
       " 'industry': 'Internet Content & Information',\n",
       " 'address2': 'Suite 900',\n",
       " 'ebitdaMargins': 0.13733,\n",
       " 'profitMargins': -0.04361,\n",
       " 'grossMargins': 0.64598,\n",
       " 'operatingCashflow': 632689024,\n",
       " 'revenueGrowth': 0.216,\n",
       " 'operatingMargins': 0.05376,\n",
       " 'ebitda': 697310016,\n",
       " 'targetLowPrice': 30,\n",
       " 'recommendationKey': 'hold',\n",
       " 'grossProfits': 3279972000,\n",
       " 'freeCashflow': 205639008,\n",
       " 'targetMedianPrice': 42,\n",
       " 'currentPrice': 50.98,\n",
       " 'earningsGrowth': -0.232,\n",
       " 'currentRatio': 5.892,\n",
       " 'returnOnAssets': 0.01244,\n",
       " 'numberOfAnalystOpinions': 34,\n",
       " 'targetMeanPrice': 44.05,\n",
       " 'debtToEquity': 75.906,\n",
       " 'returnOnEquity': -0.02898,\n",
       " 'targetHighPrice': 77.8,\n",
       " 'totalCash': 6393681920,\n",
       " 'totalDebt': 5546573824,\n",
       " 'totalRevenue': 5077481984,\n",
       " 'totalCashPerShare': 8.003,\n",
       " 'financialCurrency': 'USD',\n",
       " 'revenuePerShare': 6.366,\n",
       " 'quickRatio': 5.664,\n",
       " 'recommendationMean': 2.7,\n",
       " 'exchange': 'NYQ',\n",
       " 'shortName': 'Twitter, Inc.',\n",
       " 'longName': 'Twitter, Inc.',\n",
       " 'exchangeTimezoneName': 'America/New_York',\n",
       " 'exchangeTimezoneShortName': 'EDT',\n",
       " 'isEsgPopulated': False,\n",
       " 'gmtOffSetMilliseconds': '-14400000',\n",
       " 'quoteType': 'EQUITY',\n",
       " 'symbol': 'TWTR',\n",
       " 'messageBoardId': 'finmb_35962803',\n",
       " 'market': 'us_market',\n",
       " 'annualHoldingsTurnover': None,\n",
       " 'enterpriseToRevenue': 7.696,\n",
       " 'beta3Year': None,\n",
       " 'enterpriseToEbitda': 56.039,\n",
       " '52WeekChange': -0.2610523,\n",
       " 'morningStarRiskRating': None,\n",
       " 'forwardEps': 1.16,\n",
       " 'revenueQuarterlyGrowth': None,\n",
       " 'sharesOutstanding': 800641024,\n",
       " 'fundInceptionDate': None,\n",
       " 'annualReportExpenseRatio': None,\n",
       " 'totalAssets': None,\n",
       " 'bookValue': 9.159,\n",
       " 'sharesShort': 38965622,\n",
       " 'sharesPercentSharesOut': 0.048699997,\n",
       " 'fundFamily': None,\n",
       " 'lastFiscalYearEnd': 1640908800,\n",
       " 'heldPercentInstitutions': 0.78414,\n",
       " 'netIncomeToCommon': -221408992,\n",
       " 'trailingEps': -0.28,\n",
       " 'lastDividendValue': None,\n",
       " 'SandP52WeekChange': 0.10911167,\n",
       " 'priceToBook': 5.5661097,\n",
       " 'heldPercentInsiders': 0.02562,\n",
       " 'nextFiscalYearEnd': 1703980800,\n",
       " 'yield': None,\n",
       " 'mostRecentQuarter': 1640908800,\n",
       " 'shortRatio': 2.26,\n",
       " 'sharesShortPreviousMonthDate': 1644883200,\n",
       " 'floatShares': 778686648,\n",
       " 'beta': 0.80147,\n",
       " 'enterpriseValue': 39076732928,\n",
       " 'priceHint': 2,\n",
       " 'threeYearAverageReturn': None,\n",
       " 'lastSplitDate': None,\n",
       " 'lastSplitFactor': None,\n",
       " 'legalType': None,\n",
       " 'lastDividendDate': None,\n",
       " 'morningStarOverallRating': None,\n",
       " 'earningsQuarterlyGrowth': -0.182,\n",
       " 'priceToSalesTrailing12Months': 8.038764,\n",
       " 'dateShortInterest': 1647302400,\n",
       " 'pegRatio': 0.79,\n",
       " 'ytdReturn': None,\n",
       " 'forwardPE': 43.948277,\n",
       " 'lastCapGain': None,\n",
       " 'shortPercentOfFloat': 0.0558,\n",
       " 'sharesShortPriorMonth': 40696594,\n",
       " 'impliedSharesOutstanding': 0,\n",
       " 'category': None,\n",
       " 'fiveYearAverageReturn': None,\n",
       " 'previousClose': 49.97,\n",
       " 'regularMarketOpen': 53.85,\n",
       " 'twoHundredDayAverage': 52.02815,\n",
       " 'trailingAnnualDividendYield': 0,\n",
       " 'payoutRatio': 0,\n",
       " 'volume24Hr': None,\n",
       " 'regularMarketDayHigh': 54.57,\n",
       " 'navPrice': None,\n",
       " 'averageDailyVolume10Day': 61072570,\n",
       " 'regularMarketPreviousClose': 49.97,\n",
       " 'fiftyDayAverage': 36.4708,\n",
       " 'trailingAnnualDividendRate': 0,\n",
       " 'open': 53.85,\n",
       " 'toCurrency': None,\n",
       " 'averageVolume10days': 61072570,\n",
       " 'expireDate': None,\n",
       " 'algorithm': None,\n",
       " 'dividendRate': None,\n",
       " 'exDividendDate': None,\n",
       " 'circulatingSupply': None,\n",
       " 'startDate': None,\n",
       " 'regularMarketDayLow': 50.56,\n",
       " 'currency': 'USD',\n",
       " 'regularMarketVolume': 213962904,\n",
       " 'lastMarket': None,\n",
       " 'maxSupply': None,\n",
       " 'openInterest': None,\n",
       " 'marketCap': 40816680960,\n",
       " 'volumeAllCurrencies': None,\n",
       " 'strikePrice': None,\n",
       " 'averageVolume': 26382868,\n",
       " 'dayLow': 50.56,\n",
       " 'ask': 0,\n",
       " 'askSize': 1300,\n",
       " 'volume': 213962904,\n",
       " 'fiftyTwoWeekHigh': 73.34,\n",
       " 'fromCurrency': None,\n",
       " 'fiveYearAvgDividendYield': None,\n",
       " 'fiftyTwoWeekLow': 31.3,\n",
       " 'bid': 0,\n",
       " 'tradeable': False,\n",
       " 'dividendYield': None,\n",
       " 'bidSize': 900,\n",
       " 'dayHigh': 54.57,\n",
       " 'regularMarketPrice': 50.98,\n",
       " 'preMarketPrice': 50.18,\n",
       " 'logo_url': 'https://logo.clearbit.com/twitter.com'}"
      ]
     },
     "execution_count": 4,
     "metadata": {},
     "output_type": "execute_result"
    }
   ],
   "source": [
    "twitter.info"
   ]
  },
  {
   "cell_type": "code",
   "execution_count": 12,
   "id": "a83b1737",
   "metadata": {},
   "outputs": [],
   "source": [
    "twitter_share_price_data=twitter.history(period=\"1mo\",interval=\"1d\")"
   ]
  },
  {
   "cell_type": "code",
   "execution_count": 31,
   "id": "49a13bc2",
   "metadata": {},
   "outputs": [],
   "source": [
    "twitter_share_price_data.reset_index(inplace=True)\n"
   ]
  },
  {
   "cell_type": "code",
   "execution_count": 30,
   "id": "760e5542",
   "metadata": {},
   "outputs": [
    {
     "data": {
      "text/plain": [
       "<AxesSubplot:xlabel='Date'>"
      ]
     },
     "execution_count": 30,
     "metadata": {},
     "output_type": "execute_result"
    },
    {
     "data": {
      "image/png": "[encoded data removed]",
      "text/plain": [
       "<Figure size 432x288 with 1 Axes>"
      ]
     },
     "metadata": {
      "needs_background": "light"
     },
     "output_type": "display_data"
    },
    {
     "data": {
      "image/png": "[encoded data removed]",
      "text/plain": [
       "<Figure size 432x288 with 1 Axes>"
      ]
     },
     "metadata": {
      "needs_background": "light"
     },
     "output_type": "display_data"
    }
   ],
   "source": [
    "twitter_share_price_data.plot(x=\"Date\",y=\"Open\") \n",
    "twitter_share_price_data.plot(x=\"Date\",y=\"Close\")"
   ]
  }
 ],
 "metadata": {
  "kernelspec": {
   "display_name": "Python 3 (ipykernel)",
   "language": "python",
   "name": "python3"
  },
  "language_info": {
   "codemirror_mode": {
    "name": "ipython",
    "version": 3
   },
   "file_extension": ".py",
   "mimetype": "text/x-python",
   "name": "python",
   "nbconvert_exporter": "python",
   "pygments_lexer": "ipython3",
   "version": "3.9.7"
  }
 },
 "nbformat": 4,
 "nbformat_minor": 5
}
